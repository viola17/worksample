{
 "cells": [
  {
   "cell_type": "code",
   "execution_count": 9,
   "metadata": {
    "collapsed": true
   },
   "outputs": [],
   "source": [
    "import http.client\n",
    "import hashlib\n",
    "import urllib.parse\n",
    "import random\n",
    "from urllib.request import urlopen\n",
    "import json\n",
    "import re"
   ]
  },
  {
   "cell_type": "code",
   "execution_count": 10,
   "metadata": {
    "collapsed": true
   },
   "outputs": [],
   "source": [
    "def TranslateByBaidu(text, appid='20180822000197619', secretKey='O8uEcCPgSEs8HXwLgmdi', fromLang = 'auto',toLang = 'zh'):\n",
    "    httpClient = None\n",
    "    myurl = '/api/trans/vip/translate'\n",
    "    q = text\n",
    "    salt = random.randint(32768, 65536)\n",
    "\n",
    "    sign1 = appid+q+str(salt)+secretKey\n",
    "    sign =  hashlib.md5(sign1.encode(\"utf8\")).hexdigest()\n",
    "    myurl = myurl+'?appid='+appid+'&q='+urllib.parse.quote(q)+'&from='+fromLang+'&to='+toLang+'&salt='+str(salt)+'&sign='+sign\n",
    "     \n",
    "    try:\n",
    "        httpClient = http.client.HTTPConnection('api.fanyi.baidu.com')\n",
    "        httpClient.request('GET', myurl)\n",
    "\n",
    "        #response是HTTPResponse对象\n",
    "        response = httpClient.getresponse()\n",
    "        result = response.read()\n",
    "        data = json.loads(result)\n",
    "        return data[\"trans_result\"][0][\"dst\"]\n",
    "    except Exception as e:\n",
    "        print(e)\n",
    "    finally:\n",
    "        if httpClient:\n",
    "            httpClient.close()\n",
    "\n",
    "\n",
    "\n",
    "def unescape(text):\n",
    "    parser = HTMLParser.HTMLParser()\n",
    "    return (parser.unescape(text))"
   ]
  },
  {
   "cell_type": "code",
   "execution_count": 11,
   "metadata": {},
   "outputs": [
    {
     "data": {
      "text/plain": [
       "'你好世界'"
      ]
     },
     "execution_count": 11,
     "metadata": {},
     "output_type": "execute_result"
    }
   ],
   "source": [
    "TranslateByBaidu('hello world')"
   ]
  },
  {
   "cell_type": "code",
   "execution_count": null,
   "metadata": {
    "collapsed": true
   },
   "outputs": [],
   "source": [
    "\n"
   ]
  },
  {
   "cell_type": "code",
   "execution_count": null,
   "metadata": {
    "collapsed": true
   },
   "outputs": [],
   "source": []
  },
  {
   "cell_type": "code",
   "execution_count": null,
   "metadata": {
    "collapsed": true
   },
   "outputs": [],
   "source": []
  }
 ],
 "metadata": {
  "kernelspec": {
   "display_name": "Python 3",
   "language": "python",
   "name": "python3"
  },
  "language_info": {
   "codemirror_mode": {
    "name": "ipython",
    "version": 3
   },
   "file_extension": ".py",
   "mimetype": "text/x-python",
   "name": "python",
   "nbconvert_exporter": "python",
   "pygments_lexer": "ipython3",
   "version": "3.6.2"
  }
 },
 "nbformat": 4,
 "nbformat_minor": 2
}
